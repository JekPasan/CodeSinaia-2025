{
 "cells": [
  {
   "cell_type": "code",
   "execution_count": 1,
   "id": "06dea898",
   "metadata": {},
   "outputs": [],
   "source": [
    "import matplotlib.pyplot as plt\n",
    "import pandas as pd"
   ]
  },
  {
   "cell_type": "code",
   "execution_count": 2,
   "id": "d884a660",
   "metadata": {},
   "outputs": [],
   "source": [
    "db = pd.read_csv('mountains_db.tsv', sep='\\t', header=None, names=['Name', 'Height', 'Country', 'ISO'])"
   ]
  },
  {
   "cell_type": "code",
   "execution_count": 3,
   "id": "e0fa8294",
   "metadata": {},
   "outputs": [
    {
     "name": "stdout",
     "output_type": "stream",
     "text": [
      "Numarul de tari: 256\n"
     ]
    }
   ],
   "source": [
    "print(f\"Numarul de tari: {len(db['ISO'].value_counts())}\")"
   ]
  },
  {
   "cell_type": "code",
   "execution_count": 9,
   "id": "96fe5fae",
   "metadata": {},
   "outputs": [
    {
     "name": "stdout",
     "output_type": "stream",
     "text": [
      "Numarul de munti cu inaltime nenula: 53152\n"
     ]
    }
   ],
   "source": [
    "print(f\"Numarul de munti cu inaltime nenula: {len(db[db[\"Height\"].notnull()][\"Height\"].tolist())}\")"
   ]
  },
  {
   "cell_type": "code",
   "execution_count": 6,
   "id": "5ada7f1c",
   "metadata": {},
   "outputs": [
    {
     "name": "stdout",
     "output_type": "stream",
     "text": [
      "Inaltime minina: 0.0 \n",
      "Inaltime maxima: 8172.0\n",
      "Inaltime medie: 1286.2325302904876 \n",
      "Inaltime mediana: 984.0\n"
     ]
    }
   ],
   "source": [
    "print(f\"Inaltime minina: {db['Height'].min()} \\nInaltime maxima: {db['Height'].max()}\")\n",
    "print(f\"Inaltime medie: {db['Height'].mean()} \\nInaltime mediana: {db['Height'].median()}\")"
   ]
  },
  {
   "cell_type": "code",
   "execution_count": 14,
   "id": "7c68fd2e",
   "metadata": {},
   "outputs": [],
   "source": [
    "iso_dict = {}\n",
    "for iso in db[\"ISO\"]:\n",
    "    if iso not in iso_dict:\n",
    "        iso_dict[iso] = 1\n",
    "    iso_dict[iso] += 1"
   ]
  },
  {
   "cell_type": "code",
   "execution_count": 15,
   "id": "44b1b808",
   "metadata": {},
   "outputs": [
    {
     "data": {
      "text/plain": [
       "<BarContainer object of 256 artists>"
      ]
     },
     "execution_count": 15,
     "metadata": {},
     "output_type": "execute_result"
    },
    {
     "data": {
      "image/png": "[encoded data removed]",
      "text/plain": [
       "<Figure size 640x480 with 1 Axes>"
      ]
     },
     "metadata": {},
     "output_type": "display_data"
    }
   ],
   "source": [
    "plt.bar(iso_dict.keys(), iso_dict.values())"
   ]
  },
  {
   "cell_type": "code",
   "execution_count": 16,
   "id": "20bb900c",
   "metadata": {},
   "outputs": [],
   "source": [
    "iso_max_h = {}\n",
    "\n",
    "for iso in db[\"ISO\"].unique():\n",
    "    iso_max_h[iso] = db[db[\"ISO\"] == iso][\"Height\"].max()"
   ]
  },
  {
   "cell_type": "code",
   "execution_count": null,
   "id": "ede382cb",
   "metadata": {},
   "outputs": [
    {
     "ename": "AttributeError",
     "evalue": "module 'matplotlib.pyplot' has no attribute 'bars'",
     "output_type": "error",
     "traceback": [
      "\u001b[31m---------------------------------------------------------------------------\u001b[39m",
      "\u001b[31mAttributeError\u001b[39m                            Traceback (most recent call last)",
      "\u001b[36mCell\u001b[39m\u001b[36m \u001b[39m\u001b[32mIn[17]\u001b[39m\u001b[32m, line 1\u001b[39m\n\u001b[32m----> \u001b[39m\u001b[32m1\u001b[39m \u001b[43mplt\u001b[49m\u001b[43m.\u001b[49m\u001b[43mbars\u001b[49m(iso_max_h.keys(), iso_max_h.values())\n",
      "\u001b[31mAttributeError\u001b[39m: module 'matplotlib.pyplot' has no attribute 'bars'"
     ]
    }
   ],
   "source": [
    "plt.bar(iso_max_h.keys(), iso_max_h.values())"
   ]
  }
 ],
 "metadata": {
  "kernelspec": {
   "display_name": "Python 3",
   "language": "python",
   "name": "python3"
  },
  "language_info": {
   "codemirror_mode": {
    "name": "ipython",
    "version": 3
   },
   "file_extension": ".py",
   "mimetype": "text/x-python",
   "name": "python",
   "nbconvert_exporter": "python",
   "pygments_lexer": "ipython3",
   "version": "3.13.5"
  }
 },
 "nbformat": 4,
 "nbformat_minor": 5
}
